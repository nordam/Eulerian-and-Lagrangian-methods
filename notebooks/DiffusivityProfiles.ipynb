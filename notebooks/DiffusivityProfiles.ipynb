{
 "cells": [
  {
   "cell_type": "code",
   "execution_count": 1,
   "metadata": {},
   "outputs": [],
   "source": [
    "# Import numpy and matplotlib\n",
    "from collections import namedtuple\n",
    "import numpy as np\n",
    "%matplotlib inline\n",
    "from matplotlib import pyplot as plt\n",
    "from scipy.integrate import simps\n",
    "\n",
    "# Modify the style of the plots\n",
    "plt.style.use('seaborn-whitegrid')"
   ]
  },
  {
   "cell_type": "code",
   "execution_count": 2,
   "metadata": {},
   "outputs": [],
   "source": [
    "##############################\n",
    "#### Diffusivity profiles ####\n",
    "##############################\n",
    "\n",
    "# Constant diffusivity\n",
    "K0  = 1e-2\n",
    "K_A = lambda z, t: K0 * np.ones_like(z)\n",
    "\n",
    "# Analytical function which has been fitted to\n",
    "# simulation results from the GOTM turbulence model\n",
    "# with a wind stress corresponding to wind speed of about 9 m/s.\n",
    "# (see GOTM input files in separate folder, and PlotProfileB.ipynb)\n",
    "a, b, c, z0 = (0.00636, 0.088, 1.54, 1.3)\n",
    "K_B = lambda z, t: a*(z+z0)*np.exp(-(b*(z+z0))**c)"
   ]
  },
  {
   "cell_type": "code",
   "execution_count": 15,
   "metadata": {},
   "outputs": [
    {
     "data": {
      "image/png": "[encoded data removed]",
      "text/plain": [
       "<Figure size 288x216 with 1 Axes>"
      ]
     },
     "metadata": {},
     "output_type": "display_data"
    }
   ],
   "source": [
    "zc = np.linspace(0, 50, 1000)\n",
    "\n",
    "fig = plt.figure(figsize = (4, 3))\n",
    "\n",
    "# Plot diffusivity profiles\n",
    "plt.plot(K_A(zc, 0), zc, label = 'Profile A', c='k')\n",
    "plt.plot(K_B(zc, 0), zc, label = 'Profile B', c='k', ls='--')\n",
    "\n",
    "# Plot entrainment depth\n",
    "#plt.plot([-1, 1], [(1.5-0.35)*Hs, (1.5-0.35)*Hs], c='k', ls=':', label='Entrainment depth')\n",
    "#plt.plot([-1, 1], [(1.5+0.35)*Hs, (1.5+0.35)*Hs], c='k', ls=':')\n",
    "\n",
    "plt.ylabel('Depth [m]')\n",
    "plt.xlabel('Diffusivity [m$^2$/s]')\n",
    "\n",
    "# Limit the horizontal axis\n",
    "plt.xlim(-0.001, 0.031)\n",
    "# Flip the vertical axis\n",
    "plt.ylim(50, 0)\n",
    "\n",
    "plt.legend(loc = 'lower right')\n",
    "plt.subplots_adjust(left = 0.105, bottom = 0.13, right = 0.98, top = 0.98, wspace = 0.01)\n",
    "plt.savefig('diffusivityprofiles.pdf')"
   ]
  },
  {
   "cell_type": "code",
   "execution_count": null,
   "metadata": {},
   "outputs": [],
   "source": []
  }
 ],
 "metadata": {
  "kernelspec": {
   "display_name": "Python 3",
   "language": "python",
   "name": "python3"
  },
  "language_info": {
   "codemirror_mode": {
    "name": "ipython",
    "version": 3
   },
   "file_extension": ".py",
   "mimetype": "text/x-python",
   "name": "python",
   "nbconvert_exporter": "python",
   "pygments_lexer": "ipython3",
   "version": "3.6.9"
  }
 },
 "nbformat": 4,
 "nbformat_minor": 2
}
