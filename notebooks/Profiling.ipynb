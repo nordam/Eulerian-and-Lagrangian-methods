{
 "cells": [
  {
   "cell_type": "code",
   "execution_count": 9,
   "metadata": {},
   "outputs": [
    {
     "name": "stdout",
     "output_type": "stream",
     "text": [
      "The line_profiler extension is already loaded. To reload it, use:\n",
      "  %reload_ext line_profiler\n",
      "The autoreload extension is already loaded. To reload it, use:\n",
      "  %reload_ext autoreload\n"
     ]
    }
   ],
   "source": [
    "# Import numpy and matplotlib\n",
    "%load_ext line_profiler\n",
    "from collections import namedtuple\n",
    "import numpy as np\n",
    "%matplotlib inline\n",
    "from matplotlib import pyplot as plt\n",
    "import sys\n",
    "import time\n",
    "sys.path.append('../scripts/')\n",
    "from eulerian_functions import *\n",
    "\n",
    "# This code forces re-import of modules every time a cell is executed.\n",
    "# Useful for development.\n",
    "%load_ext autoreload\n",
    "%autoreload 2"
   ]
  },
  {
   "cell_type": "code",
   "execution_count": 15,
   "metadata": {},
   "outputs": [
    {
     "name": "stderr",
     "output_type": "stream",
     "text": [
      "100%|██████████| 24/24 [00:04<00:00,  5.22it/s]"
     ]
    },
    {
     "name": "stdout",
     "output_type": "stream",
     "text": [
      "Simulation took 4.7982 seconds\n"
     ]
    },
    {
     "name": "stderr",
     "output_type": "stream",
     "text": [
      "\n"
     ]
    }
   ],
   "source": [
    "########################################\n",
    "#### Scenario parameters for Case 1 ####\n",
    "########################################\n",
    "\n",
    "#### Hard-coded parameters for this case ####\n",
    "# Total depth\n",
    "Zmax = 50\n",
    "# Simulation time\n",
    "Tmax = 24*3600\n",
    "\n",
    "# For this case, we use a speed distribution directly, taken from\n",
    "# Table 3 in Sundby (1983).\n",
    "# Mean speed = 0.96 mm/s\n",
    "# Standard deviation = 0.38 mm/s\n",
    "# Truncated at +/- 2*sigma\n",
    "mean_speed = 0.96 * 1e-3\n",
    "std_dev_speed = 0.38 * 1e-3\n",
    "Vmin = mean_speed - 2*std_dev_speed\n",
    "Vmax = mean_speed + 2*std_dev_speed\n",
    "speed_distribution = lambda v: np.exp(-0.5*((v - mean_speed)/std_dev_speed)**2) / (std_dev_speed*np.sqrt(2*np.pi))\n",
    "\n",
    "# Initial condition:\n",
    "# Normal distribution with mean mu and standard deviation sigma\n",
    "sigma_IC = 4\n",
    "mu_IC = 20\n",
    "pdf_IC = lambda z: np.exp(-0.5*((z - mu_IC)/sigma_IC)**2) / (sigma_IC*np.sqrt(2*np.pi))\n",
    "\n",
    "\n",
    "##################################\n",
    "####   Diffusivity profiles   ####\n",
    "##################################\n",
    "\n",
    "# Constant diffusivity\n",
    "K_A = lambda z: 1e-2*np.ones(len(z))\n",
    "\n",
    "# Fitted to results of GOTM simulation\n",
    "alpha, beta, zeta, z0 = (0.00636, 0.088, 1.54, 1.3)\n",
    "K_B = lambda z: alpha*(z+z0)*np.exp(-(beta*(z+z0))**zeta)\n",
    "\n",
    "\n",
    "####################################################\n",
    "####   Populate object with system parameters   ####\n",
    "####################################################\n",
    "\n",
    "params = EulerianSystemParameters(\n",
    "        Zmax = Zmax, # Max depth of water column\n",
    "        Nz = 2000, # Number of cells in z-direction\n",
    "        Tmax = Tmax, # Simulation time\n",
    "        dt = 3600, # timestep\n",
    "        Vmin = Vmin, # Minimum speed\n",
    "        Vmax = Vmax, # maximum speed\n",
    "        Nclasses = 16, # Number of speed classes\n",
    "        speed_distribution = speed_distribution, # speed density\n",
    "    )\n",
    "\n",
    "\n",
    "###########################################################\n",
    "####    Run simulation for both diffusivity profiles   ####\n",
    "###########################################################\n",
    "\n",
    "\n",
    "# Initial concentration array for all cells and time levels\n",
    "C0 = pdf_IC(params.z_cell)[None,:] * params.mass_fractions[:,None]\n",
    "#C0 = pdf_IC(params.z_cell)[:,None] * params.mass_fractions[None,:]\n",
    "\n",
    "tic = time.time()\n",
    "c = Crank_Nicolson_FVM_TVD_advection_diffusion_reaction(C0, K_B, params)\n",
    "toc = time.time()\n",
    "\n",
    "print(f'Simulation took {toc - tic:.4f} seconds')"
   ]
  },
  {
   "cell_type": "code",
   "execution_count": 14,
   "metadata": {},
   "outputs": [
    {
     "name": "stderr",
     "output_type": "stream",
     "text": [
      "100%|██████████| 24/24 [00:04<00:00,  4.92it/s]\n"
     ]
    }
   ],
   "source": [
    "%lprun -f Iterative_Solver c = Crank_Nicolson_FVM_TVD_advection_diffusion_reaction(C0, K_B, params)"
   ]
  },
  {
   "cell_type": "code",
   "execution_count": null,
   "metadata": {},
   "outputs": [],
   "source": []
  }
 ],
 "metadata": {
  "kernelspec": {
   "display_name": "Python 3",
   "language": "python",
   "name": "python3"
  },
  "language_info": {
   "codemirror_mode": {
    "name": "ipython",
    "version": 3
   },
   "file_extension": ".py",
   "mimetype": "text/x-python",
   "name": "python",
   "nbconvert_exporter": "python",
   "pygments_lexer": "ipython3",
   "version": "3.6.10"
  }
 },
 "nbformat": 4,
 "nbformat_minor": 2
}
