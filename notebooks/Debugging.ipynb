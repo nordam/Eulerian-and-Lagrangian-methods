{
 "cells": [
  {
   "cell_type": "code",
   "execution_count": 4,
   "metadata": {},
   "outputs": [],
   "source": [
    "# Import numpy and matplotlib, and use jupyter magic to\n",
    "# get plots directly in notebook\n",
    "import numpy as np\n",
    "import matplotlib\n",
    "%matplotlib inline\n",
    "from matplotlib import pyplot as plt\n",
    "from scipy.sparse import diags\n",
    "from glob import glob"
   ]
  },
  {
   "cell_type": "code",
   "execution_count": 2,
   "metadata": {},
   "outputs": [],
   "source": [
    "import sys\n",
    "sys.path.append('../scripts/')\n",
    "from eulerian_functions import setup_AD_matrices, setup_FL_matrices, EulerianSystemParameters, velocity_vector_function\n",
    "from eulerian_functions import thomas, get_rho_vectors, psi_vector_function\n",
    "\n",
    "from eulerian_case2 import Crank_Nicolson_LHS, flux_limiter_reaction_term_function"
   ]
  },
  {
   "cell_type": "markdown",
   "metadata": {},
   "source": [
    "# Case parameters"
   ]
  },
  {
   "cell_type": "code",
   "execution_count": 3,
   "metadata": {},
   "outputs": [],
   "source": [
    "#### Hard-coded parameters for this case ####\n",
    "# Total depth\n",
    "Zmax = 50\n",
    "# Simulation time\n",
    "Tmax = 12*3600\n",
    "\n",
    "# For this case, we use a speed distribution directly, taken from\n",
    "# Table 3 in Sundby (1983).\n",
    "# Mean speed = 0.96 mm/s\n",
    "# Standard deviation = 0.38 mm/s\n",
    "# Truncated at +/- 2*sigma\n",
    "mean_speed = 0.0 * 1e-3\n",
    "std_dev_speed = 0.38 * 1e-3\n",
    "Vmin = mean_speed - 2*std_dev_speed\n",
    "Vmax = mean_speed + 2*std_dev_speed\n",
    "speed_distribution = lambda v: np.exp(-0.5*((v - mean_speed)/std_dev_speed)**2) / (std_dev_speed*np.sqrt(2*np.pi))\n",
    "speed_distribution = lambda v: np.ones_like(v) / (4*std_dev_speed)\n",
    "\n",
    "\n",
    "# Initial condition:\n",
    "# Normal distribution with mean mu and standard deviation sigma\n",
    "sigma_IC = 15\n",
    "mu_IC = 25\n",
    "pdf_IC = lambda z: np.exp(-0.5*((z - mu_IC)/sigma_IC)**2) / (sigma_IC*np.sqrt(2*np.pi))\n",
    "\n",
    "\n",
    "##################################\n",
    "####   Diffusivity profiles   ####\n",
    "##################################\n",
    "\n",
    "# Constant diffusivity\n",
    "K_A = lambda z: 1e-3*np.ones(len(z))\n",
    "\n",
    "# Fitted to results of GOTM simulation\n",
    "#alpha, beta, zeta, z0 = (0.00636, 0.088, 1.54, 1.3)\n",
    "#K_B = lambda z: alpha*(z+z0)*np.exp(-(beta*(z+z0))**zeta)\n",
    "K_B = lambda z: 1e-3 + 1e-2*np.sin(z*np.pi/Zmax)\n",
    "\n",
    "\n",
    "\n",
    "####################################################\n",
    "####   Populate object with system parameters   ####\n",
    "####################################################\n",
    "\n",
    "params = EulerianSystemParameters(\n",
    "        Zmax = Zmax, # Max depth of water column\n",
    "        Nz = 1000, # Number of cells in z-direction\n",
    "        Tmax = Tmax, # Simulation time\n",
    "        dt = 300, # timestep\n",
    "        Vmin = Vmin, # Minimum speed\n",
    "        Vmax = Vmax, # maximum speed\n",
    "        Nclasses = 3, # Number of speed classes\n",
    "        speed_distribution = speed_distribution, # speed density\n",
    "    )"
   ]
  },
  {
   "cell_type": "markdown",
   "metadata": {},
   "source": [
    "# Obtain matrices from new code"
   ]
  },
  {
   "cell_type": "code",
   "execution_count": 4,
   "metadata": {},
   "outputs": [],
   "source": [
    "# Evaluate diffusivity function at cell faces\n",
    "K_vec = K_A(params.z_face)\n",
    "# Arrays of velocities for all cells and all classes\n",
    "v_plus = np.maximum(velocity_vector_function(params), 0)\n",
    "v_minus = np.minimum(velocity_vector_function(params), 0)\n",
    "\n",
    "# Initial concentration\n",
    "C0 = pdf_IC(params.z_cell)[:,None] * params.mass_fractions[None,:]\n",
    "\n",
    "# Set up matrices encoding advection and diffusion\n",
    "# (these are tri-diagonal, and constant in time)\n",
    "L_AD, R_AD = setup_AD_matrices(params, K_vec, v_minus, v_plus)\n",
    "L_FL, R_FL = setup_FL_matrices(params, v_minus, v_plus, C0)"
   ]
  },
  {
   "cell_type": "markdown",
   "metadata": {},
   "source": [
    "# Obtain LHS matrix from old code"
   ]
  },
  {
   "cell_type": "code",
   "execution_count": 5,
   "metadata": {},
   "outputs": [],
   "source": [
    "# z_cell, dz, NJ, NK, r_sans_D, CFL_sans_v, diffusivity_vector, velocity_vector_minus, velocity_vector_plus\n",
    "L_old = diags(Crank_Nicolson_LHS(\n",
    "    params.z_cell,\n",
    "    params.dz,\n",
    "    params.Nz,\n",
    "    params.Nclasses,\n",
    "    params.dt/params.dz**2,\n",
    "    params.dt/params.dz,\n",
    "    K_vec[:,None] * np.ones((params.Nz+1, params.Nclasses)),\n",
    "    v_minus,\n",
    "    v_plus\n",
    "), offsets = (-1, 0, 1))"
   ]
  },
  {
   "cell_type": "markdown",
   "metadata": {},
   "source": [
    "# Check that the three diagonals are equal in all elements"
   ]
  },
  {
   "cell_type": "code",
   "execution_count": 6,
   "metadata": {},
   "outputs": [
    {
     "name": "stdout",
     "output_type": "stream",
     "text": [
      "Diagonal -1 matches: True\n",
      "Diagonal  0 matches: True\n",
      "Diagonal  1 matches: True\n",
      "Largest difference:  0.0\n"
     ]
    }
   ],
   "source": [
    "for i in (-1,0,1):\n",
    "    print(f'Diagonal {i:>2} matches: {np.allclose(L_AD.diagonal(i), L_old.diagonal(i))}')\n",
    "\n",
    "print('Largest difference: ', np.amax(np.abs((L_AD - L_old).todense())))"
   ]
  },
  {
   "cell_type": "markdown",
   "metadata": {},
   "source": [
    "# Get dot product of C and LHS flux limiter from new code"
   ]
  },
  {
   "cell_type": "code",
   "execution_count": 7,
   "metadata": {},
   "outputs": [],
   "source": [
    "LHS_FL = L_FL.dot(C0.T.flatten()).reshape(params.Nclasses, params.Nz).T"
   ]
  },
  {
   "cell_type": "markdown",
   "metadata": {},
   "source": [
    "# Get dot product of C and LHS flux limiter from old code"
   ]
  },
  {
   "cell_type": "code",
   "execution_count": 8,
   "metadata": {},
   "outputs": [],
   "source": [
    "LHS_FL_old = flux_limiter_reaction_term_function(\n",
    "    C0,\n",
    "    params.Nz,\n",
    "    params.Nclasses,\n",
    "    params.dt/params.dz**2,\n",
    "    params.dt/params.dz,\n",
    "    v_minus,\n",
    "    v_plus\n",
    ")"
   ]
  },
  {
   "cell_type": "markdown",
   "metadata": {},
   "source": [
    "# Confirm that the two dot products are equal"
   ]
  },
  {
   "cell_type": "code",
   "execution_count": 9,
   "metadata": {},
   "outputs": [
    {
     "name": "stdout",
     "output_type": "stream",
     "text": [
      "All elements match:  True\n",
      "Largest difference:  3.6767317960145025e-18\n"
     ]
    }
   ],
   "source": [
    "print('All elements match: ', np.allclose(LHS_FL, 0.5*LHS_FL_old))\n",
    "\n",
    "print('Largest difference: ', np.amax(np.abs(LHS_FL - 0.5*LHS_FL_old)))"
   ]
  },
  {
   "cell_type": "markdown",
   "metadata": {},
   "source": [
    "# Loading and looking at results"
   ]
  },
  {
   "cell_type": "code",
   "execution_count": 10,
   "metadata": {},
   "outputs": [
    {
     "name": "stdout",
     "output_type": "stream",
     "text": [
      "C.shape =  (1000, 433, 3)\n"
     ]
    }
   ],
   "source": [
    "profile = 'B'\n",
    "\n",
    "# Constant diffusivity\n",
    "K_A = lambda z: 1e-3*np.ones(len(z))\n",
    "# Variable but symmetric diffusivity\n",
    "K_B = lambda z: 1e-3 + 1e-2*np.sin(z*np.pi/Zmax)\n",
    "\n",
    "if profile == 'A':\n",
    "    K_vec = K_A(params.z_face)\n",
    "else:\n",
    "    K_vec = K_B(params.z_face)\n",
    "\n",
    "C = np.load(f'../data/Case0_K_{profile}_block_Nclasses=3_NJ=1000_dt=300.npy')\n",
    "print('C.shape = ', C.shape)"
   ]
  },
  {
   "cell_type": "code",
   "execution_count": 11,
   "metadata": {},
   "outputs": [
    {
     "data": {
      "image/png": "[encoded data removed]",
      "text/plain": [
       "<Figure size 504x864 with 5 Axes>"
      ]
     },
     "metadata": {
      "needs_background": "light"
     },
     "output_type": "display_data"
    }
   ],
   "source": [
    "fig, ax = plt.subplots(nrows = 5, figsize = (7,12))\n",
    "\n",
    "for i in (0, 1, 2):\n",
    "    speeds = [-2*0.38e-3, 0.0, 2*0.38e-3]\n",
    "    l, = ax[4].plot(params.dz*np.sum(C[:,:,i], axis = (0)), label = f'Class {i}, v = {speeds[i]}')\n",
    "    ax[i].plot(params.z_cell, C[:,0,i], ':', c = l.get_color(), label = f'Class {i}, t = T0')\n",
    "    ax[i].plot(params.z_cell, C[:,45,i], '--', c = l.get_color(), label = f'Class {i}, t = Tend/10')\n",
    "    ax[i].plot(params.z_cell, C[:,-1,i], c = l.get_color(), label = f'Class {i}, t = Tend')\n",
    "    ax[i].legend()\n",
    "    ax[i].set_ylim(-0.001, 0.17)\n",
    "    ax[i].set_xlim(0, params.Zmax)\n",
    "    ax[i].set_xlabel('Position')\n",
    "    ax[i].set_ylabel('Concentration')\n",
    "    \n",
    "ax[3].plot(params.z_face, K_vec)\n",
    "ax[3].set_ylabel('Diffusivity')\n",
    "ax[3].set_xlabel('Position')\n",
    "ax[3].set_ylim(0.0, 0.012)\n",
    "ax[3].set_xlim(0, params.Zmax)\n",
    "\n",
    "ax[4].set_ylabel('Total mass')\n",
    "ax[4].set_xlabel('Time (timestep index)')\n",
    "ax[4].set_ylim(-0.01, 1)\n",
    "ax[4].set_xlim(0, C.shape[1])\n",
    "ax[4].legend()\n",
    "\n",
    "plt.tight_layout()\n",
    "\n",
    "if profile == 'A':\n",
    "    plt.savefig('Symmetric_test_3_classes_constant_diffusivity.png', dpi = 240)\n",
    "else:\n",
    "    plt.savefig('Symmetric_test_3_classes_variable_diffusivity.png', dpi = 240)"
   ]
  },
  {
   "cell_type": "code",
   "execution_count": 9,
   "metadata": {},
   "outputs": [
    {
     "name": "stdout",
     "output_type": "stream",
     "text": [
      "True\n",
      "True\n",
      "True\n"
     ]
    }
   ],
   "source": [
    "A_main_old = np.load('../scripts/A_main_old.npy')\n",
    "A_main_new = np.load('../scripts/A_main_new.npy')\n",
    "print( np.allclose(A_main_old, A_main_new) )\n",
    "\n",
    "A_sub_old = np.load('../scripts/A_sub_old.npy')\n",
    "A_sub_new = np.load('../scripts/A_sub_new.npy')\n",
    "print( np.allclose(A_sub_old, A_sub_new) )\n",
    "\n",
    "A_sup_old = np.load('../scripts/A_sup_old.npy')\n",
    "A_sup_new = np.load('../scripts/A_sup_new.npy')\n",
    "print( np.allclose(A_sup_old, A_sup_new) )"
   ]
  },
  {
   "cell_type": "code",
   "execution_count": 4,
   "metadata": {},
   "outputs": [
    {
     "data": {
      "text/plain": [
       "array([ 961.00369582, 1921.00369582, 1921.00369582, ..., 3479.51591578,\n",
       "       3479.51591578, 2519.51591578])"
      ]
     },
     "execution_count": 4,
     "metadata": {},
     "output_type": "execute_result"
    }
   ],
   "source": [
    "A_main_new"
   ]
  },
  {
   "cell_type": "code",
   "execution_count": 5,
   "metadata": {},
   "outputs": [
    {
     "data": {
      "text/plain": [
       "array([ 961.00369582, 1921.00369582, 1921.00369582, ..., 3479.51591578,\n",
       "       3479.51591578, 2519.51591578])"
      ]
     },
     "execution_count": 5,
     "metadata": {},
     "output_type": "execute_result"
    }
   ],
   "source": [
    "A_main_old"
   ]
  },
  {
   "cell_type": "code",
   "execution_count": 6,
   "metadata": {},
   "outputs": [
    {
     "data": {
      "text/plain": [
       "[<matplotlib.lines.Line2D at 0x7ff72a0d55e0>]"
      ]
     },
     "execution_count": 6,
     "metadata": {},
     "output_type": "execute_result"
    },
    {
     "data": {
      "image/png": "[encoded data removed]",
      "text/plain": [
       "<Figure size 432x288 with 1 Axes>"
      ]
     },
     "metadata": {
      "needs_background": "light"
     },
     "output_type": "display_data"
    }
   ],
   "source": [
    "plt.plot(A_main_new - A_main_old)"
   ]
  },
  {
   "cell_type": "code",
   "execution_count": 51,
   "metadata": {},
   "outputs": [],
   "source": [
    "FL_old = np.load('../scripts/FL_old.npy')"
   ]
  },
  {
   "cell_type": "code",
   "execution_count": 52,
   "metadata": {},
   "outputs": [
    {
     "data": {
      "text/plain": [
       "(2000, 8)"
      ]
     },
     "execution_count": 52,
     "metadata": {},
     "output_type": "execute_result"
    }
   ],
   "source": [
    "FL_old.shape"
   ]
  },
  {
   "cell_type": "code",
   "execution_count": 53,
   "metadata": {},
   "outputs": [],
   "source": [
    "FL_new = np.load('../scripts/FL_new.npy')"
   ]
  },
  {
   "cell_type": "code",
   "execution_count": 54,
   "metadata": {},
   "outputs": [
    {
     "data": {
      "text/plain": [
       "(16000,)"
      ]
     },
     "execution_count": 54,
     "metadata": {},
     "output_type": "execute_result"
    }
   ],
   "source": [
    "FL_new.shape"
   ]
  },
  {
   "cell_type": "code",
   "execution_count": 55,
   "metadata": {},
   "outputs": [
    {
     "data": {
      "text/plain": [
       "False"
      ]
     },
     "execution_count": 55,
     "metadata": {},
     "output_type": "execute_result"
    }
   ],
   "source": [
    "np.allclose(FL_old.T.flatten(), FL_new)"
   ]
  },
  {
   "cell_type": "code",
   "execution_count": 56,
   "metadata": {},
   "outputs": [
    {
     "data": {
      "text/plain": [
       "0.0025182516523329923"
      ]
     },
     "execution_count": 56,
     "metadata": {},
     "output_type": "execute_result"
    }
   ],
   "source": [
    "np.amax(np.abs(FL_new))"
   ]
  },
  {
   "cell_type": "code",
   "execution_count": 57,
   "metadata": {},
   "outputs": [
    {
     "data": {
      "text/plain": [
       "[<matplotlib.lines.Line2D at 0x7ff72ce372b0>]"
      ]
     },
     "execution_count": 57,
     "metadata": {},
     "output_type": "execute_result"
    },
    {
     "data": {
      "image/png": "[encoded data removed]",
      "text/plain": [
       "<Figure size 432x288 with 1 Axes>"
      ]
     },
     "metadata": {
      "needs_background": "light"
     },
     "output_type": "display_data"
    }
   ],
   "source": [
    "plt.plot(FL_old.flatten())"
   ]
  },
  {
   "cell_type": "code",
   "execution_count": 58,
   "metadata": {},
   "outputs": [
    {
     "data": {
      "text/plain": [
       "(2000, 8)"
      ]
     },
     "execution_count": 58,
     "metadata": {},
     "output_type": "execute_result"
    }
   ],
   "source": [
    "FL_old.shape"
   ]
  },
  {
   "cell_type": "code",
   "execution_count": 59,
   "metadata": {},
   "outputs": [
    {
     "data": {
      "text/plain": [
       "(16000,)"
      ]
     },
     "execution_count": 59,
     "metadata": {},
     "output_type": "execute_result"
    }
   ],
   "source": [
    "FL_new.shape"
   ]
  },
  {
   "cell_type": "code",
   "execution_count": 60,
   "metadata": {},
   "outputs": [
    {
     "data": {
      "text/plain": [
       "[<matplotlib.lines.Line2D at 0x7ff72c77c550>]"
      ]
     },
     "execution_count": 60,
     "metadata": {},
     "output_type": "execute_result"
    },
    {
     "data": {
      "image/png": "[encoded data removed]",
      "text/plain": [
       "<Figure size 432x288 with 1 Axes>"
      ]
     },
     "metadata": {
      "needs_background": "light"
     },
     "output_type": "display_data"
    }
   ],
   "source": [
    "plt.plot(FL_new)"
   ]
  },
  {
   "cell_type": "code",
   "execution_count": 61,
   "metadata": {},
   "outputs": [
    {
     "data": {
      "text/plain": [
       "[<matplotlib.lines.Line2D at 0x7ff72d5c98b0>]"
      ]
     },
     "execution_count": 61,
     "metadata": {},
     "output_type": "execute_result"
    },
    {
     "data": {
      "image/png": "[encoded data removed]",
      "text/plain": [
       "<Figure size 432x288 with 1 Axes>"
      ]
     },
     "metadata": {
      "needs_background": "light"
     },
     "output_type": "display_data"
    }
   ],
   "source": [
    "plt.plot(0.5*FL_old.T.flatten())"
   ]
  },
  {
   "cell_type": "code",
   "execution_count": 62,
   "metadata": {},
   "outputs": [
    {
     "data": {
      "text/plain": [
       "[<matplotlib.lines.Line2D at 0x7ff72d7c1b20>]"
      ]
     },
     "execution_count": 62,
     "metadata": {},
     "output_type": "execute_result"
    },
    {
     "data": {
      "image/png": "[encoded data removed]",
      "text/plain": [
       "<Figure size 432x288 with 1 Axes>"
      ]
     },
     "metadata": {
      "needs_background": "light"
     },
     "output_type": "display_data"
    }
   ],
   "source": [
    "plt.plot(0.5*FL_old.T.flatten() - FL_new)"
   ]
  },
  {
   "cell_type": "code",
   "execution_count": 66,
   "metadata": {},
   "outputs": [],
   "source": [
    "C0_new = np.load('../scripts/C0_new.npy')\n",
    "C0_old = np.load('../scripts/C0_old.npy')"
   ]
  },
  {
   "cell_type": "code",
   "execution_count": 68,
   "metadata": {},
   "outputs": [
    {
     "data": {
      "text/plain": [
       "((16, 2000), (2000, 16))"
      ]
     },
     "execution_count": 68,
     "metadata": {},
     "output_type": "execute_result"
    }
   ],
   "source": [
    "C0_new.shape, C0_old.shape"
   ]
  },
  {
   "cell_type": "code",
   "execution_count": 69,
   "metadata": {},
   "outputs": [
    {
     "data": {
      "text/plain": [
       "True"
      ]
     },
     "execution_count": 69,
     "metadata": {},
     "output_type": "execute_result"
    }
   ],
   "source": [
    "np.allclose(C0_new, C0_old.T)"
   ]
  },
  {
   "cell_type": "code",
   "execution_count": 70,
   "metadata": {},
   "outputs": [
    {
     "data": {
      "text/plain": [
       "2.7755575615628914e-17"
      ]
     },
     "execution_count": 70,
     "metadata": {},
     "output_type": "execute_result"
    }
   ],
   "source": [
    "np.amax(np.abs(C0_new - C0_old.T))"
   ]
  },
  {
   "cell_type": "code",
   "execution_count": 75,
   "metadata": {},
   "outputs": [
    {
     "name": "stdout",
     "output_type": "stream",
     "text": [
      "(16, 2000) (2000, 16)\n"
     ]
    }
   ],
   "source": [
    "r_new = np.load('../scripts/reaction_term_new.npy')\n",
    "r_old = np.load('../scripts/reaction_term_old.npy')\n",
    "\n",
    "print(r_new.shape, r_old.shape)"
   ]
  },
  {
   "cell_type": "code",
   "execution_count": 76,
   "metadata": {},
   "outputs": [
    {
     "data": {
      "text/plain": [
       "True"
      ]
     },
     "execution_count": 76,
     "metadata": {},
     "output_type": "execute_result"
    }
   ],
   "source": [
    "np.allclose(r_new, r_old.T)"
   ]
  },
  {
   "cell_type": "code",
   "execution_count": 79,
   "metadata": {},
   "outputs": [
    {
     "data": {
      "text/plain": [
       "[<matplotlib.lines.Line2D at 0x7ff72df99ee0>]"
      ]
     },
     "execution_count": 79,
     "metadata": {},
     "output_type": "execute_result"
    },
    {
     "data": {
      "image/png": "[encoded data removed]",
      "text/plain": [
       "<Figure size 432x288 with 1 Axes>"
      ]
     },
     "metadata": {
      "needs_background": "light"
     },
     "output_type": "display_data"
    }
   ],
   "source": [
    "plt.plot(r_new.flatten())"
   ]
  },
  {
   "cell_type": "code",
   "execution_count": 80,
   "metadata": {},
   "outputs": [
    {
     "data": {
      "image/png": "[encoded data removed]",
      "text/plain": [
       "<Figure size 432x288 with 1 Axes>"
      ]
     },
     "metadata": {
      "needs_background": "light"
     },
     "output_type": "display_data"
    }
   ],
   "source": [
    "for i in range(16):\n",
    "    plt.plot(r_new[i,:])"
   ]
  },
  {
   "cell_type": "code",
   "execution_count": 81,
   "metadata": {},
   "outputs": [],
   "source": [
    "C = np.load('../debug/Case1_K_A_block_Nclasses=8_NJ=1000_dt=10.npy')"
   ]
  },
  {
   "cell_type": "code",
   "execution_count": 82,
   "metadata": {},
   "outputs": [
    {
     "data": {
      "text/plain": [
       "(13, 8, 1000)"
      ]
     },
     "execution_count": 82,
     "metadata": {},
     "output_type": "execute_result"
    }
   ],
   "source": [
    "C.shape"
   ]
  },
  {
   "cell_type": "code",
   "execution_count": 84,
   "metadata": {},
   "outputs": [
    {
     "data": {
      "text/plain": [
       "[<matplotlib.lines.Line2D at 0x7ff72a50e730>]"
      ]
     },
     "execution_count": 84,
     "metadata": {},
     "output_type": "execute_result"
    },
    {
     "data": {
      "image/png": "[encoded data removed]",
      "text/plain": [
       "<Figure size 432x288 with 1 Axes>"
      ]
     },
     "metadata": {
      "needs_background": "light"
     },
     "output_type": "display_data"
    }
   ],
   "source": [
    "plt.plot(np.sum(C, axis = 1)[0,:])\n",
    "plt.plot(np.sum(C, axis = 1)[-1,:])"
   ]
  },
  {
   "cell_type": "code",
   "execution_count": 2,
   "metadata": {},
   "outputs": [],
   "source": [
    "C = np.load('../debug/Case1_K_A_block_Nclasses=8_NJ=8000_dt=10_old.npy')"
   ]
  },
  {
   "cell_type": "code",
   "execution_count": 37,
   "metadata": {},
   "outputs": [],
   "source": [
    "C = []\n",
    "for i in range(18):\n",
    "    C.append(np.load(f'../scripts/C_iteration_{i}.npy'))"
   ]
  },
  {
   "cell_type": "code",
   "execution_count": 38,
   "metadata": {},
   "outputs": [
    {
     "data": {
      "text/plain": [
       "[<matplotlib.lines.Line2D at 0x7fdf48785fd0>]"
      ]
     },
     "execution_count": 38,
     "metadata": {},
     "output_type": "execute_result"
    },
    {
     "data": {
      "image/png": "[encoded data removed]",
      "text/plain": [
       "<Figure size 432x288 with 1 Axes>"
      ]
     },
     "metadata": {
      "needs_background": "light"
     },
     "output_type": "display_data"
    }
   ],
   "source": [
    "plt.plot((C[-1] - C[-2]).flatten())"
   ]
  },
  {
   "cell_type": "code",
   "execution_count": 39,
   "metadata": {},
   "outputs": [
    {
     "data": {
      "text/plain": [
       "[<matplotlib.lines.Line2D at 0x7fdf47e0b7c0>]"
      ]
     },
     "execution_count": 39,
     "metadata": {},
     "output_type": "execute_result"
    },
    {
     "data": {
      "image/png": "[encoded data removed]",
      "text/plain": [
       "<Figure size 432x288 with 1 Axes>"
      ]
     },
     "metadata": {
      "needs_background": "light"
     },
     "output_type": "display_data"
    }
   ],
   "source": [
    "plt.plot((C[-3] - C[-4]).flatten())"
   ]
  },
  {
   "cell_type": "code",
   "execution_count": 40,
   "metadata": {},
   "outputs": [],
   "source": [
    "diffs = []\n",
    "for i in range(len(C)-1):\n",
    "    diffs.append(np.amax(np.abs(C[i+1]-C[i])))"
   ]
  },
  {
   "cell_type": "code",
   "execution_count": 41,
   "metadata": {},
   "outputs": [
    {
     "data": {
      "image/png": "[encoded data removed]",
      "text/plain": [
       "<Figure size 432x288 with 1 Axes>"
      ]
     },
     "metadata": {
      "needs_background": "light"
     },
     "output_type": "display_data"
    }
   ],
   "source": [
    "plt.plot(diffs)\n",
    "plt.yscale('log')"
   ]
  },
  {
   "cell_type": "code",
   "execution_count": 35,
   "metadata": {},
   "outputs": [
    {
     "data": {
      "text/plain": [
       "<matplotlib.legend.Legend at 0x7fdf42d70d00>"
      ]
     },
     "execution_count": 35,
     "metadata": {},
     "output_type": "execute_result"
    },
    {
     "data": {
      "image/png": "[encoded data removed]",
      "text/plain": [
       "<Figure size 432x288 with 1 Axes>"
      ]
     },
     "metadata": {
      "needs_background": "light"
     },
     "output_type": "display_data"
    }
   ],
   "source": [
    "for i, c in enumerate(C[:12]):\n",
    "    plt.plot(c.T.flatten(), label = i)\n",
    "    \n",
    "plt.xlim(0, 8000)\n",
    "plt.ylim(0, 0.005)\n",
    "plt.legend()"
   ]
  },
  {
   "cell_type": "code",
   "execution_count": 51,
   "metadata": {},
   "outputs": [
    {
     "data": {
      "text/plain": [
       "(17243, 1.734723475976807e-18)"
      ]
     },
     "execution_count": 51,
     "metadata": {},
     "output_type": "execute_result"
    }
   ],
   "source": [
    "i = 16\n",
    "np.argmax(np.abs(C[i+1]-C[i])), np.amax(np.abs(C[i+1]-C[i]))"
   ]
  },
  {
   "cell_type": "code",
   "execution_count": 50,
   "metadata": {},
   "outputs": [
    {
     "data": {
      "text/plain": [
       "(17243, 1.734723475976807e-18)"
      ]
     },
     "execution_count": 50,
     "metadata": {},
     "output_type": "execute_result"
    }
   ],
   "source": [
    "i = 10\n",
    "np.argmax(np.abs(C[i+1]-C[i])), np.amax(np.abs(C[i+1]-C[i]))"
   ]
  },
  {
   "cell_type": "code",
   "execution_count": 53,
   "metadata": {},
   "outputs": [
    {
     "name": "stdout",
     "output_type": "stream",
     "text": [
      "0.008106169542932857\n",
      "0.008106423516972336\n",
      "0.008106423542220114\n",
      "0.008106423542222886\n",
      "0.008106423542222886\n",
      "0.008106423542222884\n",
      "0.008106423542222886\n",
      "0.008106423542222884\n",
      "0.008106423542222886\n",
      "0.008106423542222884\n",
      "0.008106423542222886\n",
      "0.008106423542222884\n",
      "0.008106423542222886\n",
      "0.008106423542222884\n",
      "0.008106423542222886\n",
      "0.008106423542222884\n",
      "0.008106423542222886\n",
      "0.008106423542222884\n"
     ]
    }
   ],
   "source": [
    "for i in range(len(C)):\n",
    "    print(C[i].flatten()[17243])"
   ]
  },
  {
   "cell_type": "code",
   "execution_count": null,
   "metadata": {},
   "outputs": [],
   "source": []
  }
 ],
 "metadata": {
  "kernelspec": {
   "display_name": "Python 3",
   "language": "python",
   "name": "python3"
  },
  "language_info": {
   "codemirror_mode": {
    "name": "ipython",
    "version": 3
   },
   "file_extension": ".py",
   "mimetype": "text/x-python",
   "name": "python",
   "nbconvert_exporter": "python",
   "pygments_lexer": "ipython3",
   "version": "3.8.5"
  }
 },
 "nbformat": 4,
 "nbformat_minor": 4
}
