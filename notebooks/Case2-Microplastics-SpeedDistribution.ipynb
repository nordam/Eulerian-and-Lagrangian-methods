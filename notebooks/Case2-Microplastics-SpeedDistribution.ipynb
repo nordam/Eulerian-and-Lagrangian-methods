{
 "cells": [
  {
   "cell_type": "code",
   "execution_count": 1,
   "metadata": {},
   "outputs": [],
   "source": [
    "%matplotlib inline\n",
    "from matplotlib import pyplot as plt\n",
    "import numpy as np\n",
    "from collections import namedtuple\n",
    "from scipy.stats import norm, norminvgauss, triang\n",
    "from time import time"
   ]
  },
  {
   "cell_type": "code",
   "execution_count": 2,
   "metadata": {},
   "outputs": [],
   "source": [
    "############################\n",
    "#### Physical constants ####\n",
    "############################\n",
    "PhysicalConstants = namedtuple('PhysicalConstants', ('g', 'rho_w', 'nu'))\n",
    "CONST = PhysicalConstants(g=9.81,      # Acceleration due to gravity (m/s**2)\n",
    "                          rho_w=1.025,  # Density of sea water (kg/m**3)\n",
    "                          nu=1.358e-6, # Kinematic viscosity of sea water (m**2/s)\n",
    "                         )"
   ]
  },
  {
   "cell_type": "markdown",
   "metadata": {},
   "source": [
    "# Density distribution"
   ]
  },
  {
   "cell_type": "code",
   "execution_count": 3,
   "metadata": {},
   "outputs": [],
   "source": [
    "# Normal-inverse Gaussian distribution, with parameters from\n",
    "# https://pubs.acs.org/doi/pdf/10.1021/acs.estlett.9b00379\n",
    "\n",
    "loc   = 0.84\n",
    "scale = 0.097\n",
    "alpha = 75.1\n",
    "beta  = 71.3\n",
    "pdf_density = norminvgauss(alpha, beta, loc, scale)\n",
    "rvs_density = lambda N: pdf_density.rvs(N)"
   ]
  },
  {
   "cell_type": "code",
   "execution_count": 4,
   "metadata": {},
   "outputs": [
    {
     "data": {
      "text/plain": [
       "Text(0, 0.5, 'Probability density')"
      ]
     },
     "execution_count": 4,
     "metadata": {},
     "output_type": "execute_result"
    },
    {
     "data": {
      "image/png": "[encoded data removed]",
      "text/plain": [
       "<Figure size 432x288 with 1 Axes>"
      ]
     },
     "metadata": {
      "needs_background": "light"
     },
     "output_type": "display_data"
    }
   ],
   "source": [
    "# Plot resulting distribution\n",
    "rho = np.linspace(0.8, 1.5, 1000)\n",
    "# Make a random sample and plot histogram\n",
    "plt.hist(rvs_density(1000), bins=100, density=True)\n",
    "plt.plot(rho, pdf_density.pdf(rho))\n",
    "plt.xlabel('Density [kg/L]')\n",
    "plt.ylabel('Probability density')"
   ]
  },
  {
   "cell_type": "code",
   "execution_count": 44,
   "metadata": {},
   "outputs": [
    {
     "name": "stdout",
     "output_type": "stream",
     "text": [
      "406 573\n"
     ]
    }
   ],
   "source": [
    "rho = rvs_density(1000000)\n",
    "print(np.sum(rho < 0.975), np.sum(rho > 1.405))"
   ]
  },
  {
   "cell_type": "markdown",
   "metadata": {},
   "source": [
    "# Size distribution"
   ]
  },
  {
   "cell_type": "code",
   "execution_count": 5,
   "metadata": {},
   "outputs": [],
   "source": [
    "# Power law distribution, with parameters from\n",
    "# https://pubs.acs.org/doi/pdf/10.1021/acs.estlett.9b00379\n",
    "# Cut-offs at 20 um and 5000 um.\n",
    "\n",
    "# Un-normalised number distribution pdf\n",
    "alpha = 1.6\n",
    "powerlaw = lambda d : d ** (-alpha)\n",
    "# Normalisation constant (calculated analytically from the integral)\n",
    "P0 = 1/(-5/3*(5000**(-0.6) - 20**(-0.6)))\n",
    "# Normalised volume distribution\n",
    "pdf_size = lambda d: P0*powerlaw(d)\n",
    "\n",
    "# Find CDF\n",
    "F = lambda d: P0*(5/3)*(20**(-0.6) - d**(-0.6))\n",
    "# Analytical inverse\n",
    "F_inv = lambda u: (20**(-0.6) - 3*u/(5*P0))**(-5/3)\n",
    "\n",
    "# Make a function to draw random samples,\n",
    "# with the same signature as for density\n",
    "rvs_size = lambda N: F_inv(np.random.random(N))"
   ]
  },
  {
   "cell_type": "code",
   "execution_count": 6,
   "metadata": {},
   "outputs": [
    {
     "data": {
      "image/png": "[encoded data removed]",
      "text/plain": [
       "<Figure size 432x288 with 1 Axes>"
      ]
     },
     "metadata": {
      "needs_background": "light"
     },
     "output_type": "display_data"
    }
   ],
   "source": [
    "# Plot resulting distribution\n",
    "size = np.linspace(20, 5000, 1000)\n",
    "# Make a random sample and plot histogram\n",
    "plt.hist(rvs_size(1000), bins=np.logspace(1, 4, 100), density=True)\n",
    "plt.plot(size, pdf_size(size))\n",
    "plt.xlabel('Particle size [um]')\n",
    "plt.ylabel('Probability density')\n",
    "plt.xscale('log')\n",
    "plt.yscale('log')"
   ]
  },
  {
   "cell_type": "markdown",
   "metadata": {},
   "source": [
    "# Shape distribution"
   ]
  },
  {
   "cell_type": "code",
   "execution_count": 7,
   "metadata": {},
   "outputs": [],
   "source": [
    "# Distribution for Corey Shape Factor (CSF)\n",
    "# total for all particles, included for completeness\n",
    "# Note that we will actually use separate distributions\n",
    "# for different shape categories, see below\n",
    "# Parameters\n",
    "f1, f2 = 0.06, 0.94\n",
    "sigma1, sigma2 = 0.03, 0.19\n",
    "mu1, mu2 = 0.08, 0.44\n",
    "# Create two Gaussians\n",
    "rv1 = norm(mu1, sigma1)\n",
    "rv2 = norm(mu2, sigma2)\n",
    "# Combine and normalise to compensate for truncation at 0 and 1\n",
    "shape_distribution = lambda CSF : f1*rv1.pdf(CSF) / (rv1.cdf(1) - rv1.cdf(0)) + f2*rv2.pdf(CSF) / (rv2.cdf(1) - rv2.cdf(0))\n",
    "\n",
    "\n",
    "# Distribution for Corey Shape Factor (CSF),\n",
    "# separately for shape categories Fibre, Fragment, Bead, Film, and Foam\n",
    "# All are symmetric, triangular distributions, with parameters from the supplementary material of\n",
    "# https://pubs.acs.org/doi/pdf/10.1021/acs.estlett.9b00379\n",
    "\n",
    "# c is a shape parameter, 0.5 = symmetric\n",
    "c = 0.5\n",
    "# loc is the leftmost point\n",
    "# loc + c*scale is the peak\n",
    "# loc + scale is the rightmost point\n",
    "fibre_width  = triang(c, loc = 0.001, scale = 0.499)\n",
    "fibre_height = triang(c, loc = 0.001, scale = 0.499)\n",
    "fragment_width  = triang(c, loc = 0.1,  scale = 0.9)\n",
    "fragment_height = triang(c, loc = 0.01, scale = 0.99)\n",
    "bead_width  = triang(c, loc = 0.6,  scale = 0.4)\n",
    "bead_height = triang(c, loc = 0.36, scale = 0.64)\n",
    "film_width  = triang(c, loc = 0.1,   scale = 0.9)\n",
    "film_height = triang(c, loc = 0.001, scale = 0.099)\n",
    "foam_width  = triang(c, loc = 0.1,  scale = 0.9)\n",
    "foam_height = triang(c, loc = 0.01, scale = 0.99)Bet\n",
    "\n",
    "# Function to generate random samples of shapes\n",
    "def rvs_shape(N):\n",
    "    category = np.zeros(N, dtype=np.int32)\n",
    "    width  = np.zeros(N)\n",
    "    height = np.zeros(N)\n",
    "    # Select particle type\n",
    "    xi = np.random.random(N)\n",
    "    # Fill array based on value of xi\n",
    "    # Probabilities are\n",
    "    # Fibre    : 0.51\n",
    "    # Fragment : 0.33\n",
    "    # Bead     : 0.068\n",
    "    # Film     : 0.056\n",
    "    # Foam     : 0.036\n",
    "    limits = np.cumsum([0.0, 0.51, 0.33, 0.068, 0.056, 0.036])\n",
    "    width_pdfs  = [fibre_width,  fragment_width,  bead_width,  film_width,  foam_width ]\n",
    "    height_pdfs = [fibre_height, fragment_height, bead_height, film_height, foam_height]\n",
    "    for i in range(len(limits)-1):\n",
    "        # Select particles in this category\n",
    "        mask = (limits[i] <= xi) & (xi < limits[i+1])\n",
    "        # Track particle type\n",
    "        category[mask] = i\n",
    "        # Draw width and height from relevant distribution\n",
    "        width[mask]  = width_pdfs[i].rvs(np.sum(mask))\n",
    "        height[mask] = height_pdfs[i].rvs(np.sum(mask))\n",
    "        \n",
    "    # Keep track of which particles are fibres\n",
    "    fibre = xi < limits[1]\n",
    "    # Make sure that height < width\n",
    "    mask = width < height\n",
    "    width[mask], height[mask] = height[mask], width[mask]\n",
    "    # Calculate CSF (note that dimensions are scaled so that L=1)\n",
    "    CSF = height / np.sqrt(width)\n",
    "    return CSF, width, height, category"
   ]
  },
  {
   "cell_type": "code",
   "execution_count": 8,
   "metadata": {},
   "outputs": [
    {
     "name": "stdout",
     "output_type": "stream",
     "text": [
      "p(fibre) = 0.50864\n",
      "p(fragment) = 0.33021\n",
      "p(bead) = 0.0686\n",
      "p(film) = 0.0562\n",
      "p(foam) = 0.03635\n"
     ]
    },
    {
     "data": {
      "image/png": "[encoded data removed]",
      "text/plain": [
       "<Figure size 432x288 with 1 Axes>"
      ]
     },
     "metadata": {
      "needs_background": "light"
     },
     "output_type": "display_data"
    }
   ],
   "source": [
    "# Plot the complete CSF distribution found by Kooi & Koelsmans\n",
    "CSF = np.linspace(0, 1, 1000)\n",
    "plt.plot(CSF, shape_distribution(CSF))\n",
    "\n",
    "# Make a random sample and plot histogram\n",
    "CSF, w, h, cat = rvs_shape(100000)\n",
    "plt.hist(CSF, bins=100, density=True)\n",
    "plt.xlabel('CSF')\n",
    "plt.ylabel('Probability density')\n",
    "\n",
    "# Verify shape category probabilities\n",
    "for i, shape in enumerate(['fibre', 'fragment', 'bead', 'film', 'foam']):\n",
    "    print(f'p({shape}) = {np.sum(cat==i)/len(cat)}')\n"
   ]
  },
  {
   "cell_type": "markdown",
   "metadata": {},
   "source": [
    "# Rise and settling speeds from Waldschläger & Schüttrumpf (2019)"
   ]
  },
  {
   "cell_type": "code",
   "execution_count": 30,
   "metadata": {},
   "outputs": [],
   "source": [
    "# Rise speeds are calculated from drag coefficient, C_D\n",
    "def rise_speed_CD(d, rho, CD):\n",
    "    g_ = CONST.g*(rho - CONST.rho_w)/CONST.rho_w\n",
    "    return np.sqrt(4*d*np.abs(g_)/(3*CD)) * np.sign(g_)\n",
    "\n",
    "\n",
    "# Since C_D is a function of speed, the speed is found by an iterative procedure\n",
    "def CD_iterator(CD_func, d, rho, CSF, rtol = 1e-3, maxiter = 100, return_speed=False, verbose=False):\n",
    "    # Drag coefficients are given implicitly as a function of Re.\n",
    "    # Solve for CD with iterative procedure,\n",
    "    # start by guessing Re from Stokes' law.\n",
    "    \n",
    "    # Initial guess at a Reynolds number from Stokes' law\n",
    "    Re0 = np.abs(rise_speed_stokes(d, rho)) * d / CONST.nu\n",
    "    # Iterate until tolerance met, or maxiter\n",
    "    Re = Re0\n",
    "    for n in range(maxiter):\n",
    "        # Calculate drag coefficient\n",
    "        CD = CD_func(Re, CSF)\n",
    "        # Calculate new Reynolds number\n",
    "        Re = np.abs(rise_speed_CD(d, rho, CD)) * d / CONST.nu\n",
    "        # Check for convergence\n",
    "        if not np.any(np.abs(Re0 - Re)/Re0 > rtol):\n",
    "            if verbose:\n",
    "                print(f'Converged in {n} iterations')\n",
    "            break\n",
    "        Re0 = Re\n",
    "    \n",
    "    # Return either speed or drag coefficient, depending on kwarg\n",
    "    if return_speed:\n",
    "        return rise_speed_CD(d, rho, CD)\n",
    "    else:\n",
    "        return CD\n",
    "\n",
    "def CD_pellet_sinking(Re, CSF):\n",
    "    # Drag coefficient for sinking pellets from Eq. (10) in\n",
    "    # https://pubs.acs.org/doi/pdf/10.1021/acs.est.8b06794\n",
    "    return 3 / (CSF*Re**(1/3))\n",
    "\n",
    "def CD_fibre_sinking(Re, CSF):\n",
    "    # Drag coefficient for sinking fibres from Eq. (11) in\n",
    "    # https://pubs.acs.org/doi/pdf/10.1021/acs.est.8b06794\n",
    "    return 4.7/np.sqrt(Re) + np.sqrt(CSF)\n",
    "\n",
    "def CD_pellet_rising(Re, CSF):\n",
    "    # Drag coefficient for rising pellets from Eq. (12) in\n",
    "    # https://pubs.acs.org/doi/pdf/10.1021/acs.est.8b06794\n",
    "    # Note: Hard-coding the Powers roundness factor to 3.5\n",
    "    P = 6\n",
    "    return (20/Re + 10/np.sqrt(Re) + np.sqrt(1.195 - CSF))*(6/P)**(1-CSF)\n",
    "\n",
    "def CD_fibre_rising(Re, CSF):\n",
    "    # Drag coefficient for sinking fibres from Eq. (13) in\n",
    "    # https://pubs.acs.org/doi/pdf/10.1021/acs.est.8b06794\n",
    "    return 10/np.sqrt(Re) + np.sqrt(CSF)\n",
    "\n",
    "def CD_stokes(Re, _):\n",
    "    return 24/Re"
   ]
  },
  {
   "cell_type": "code",
   "execution_count": 31,
   "metadata": {},
   "outputs": [],
   "source": [
    "# Two other rise speed functions, for comparison\n",
    "def rise_speed_stokes(d, rho):\n",
    "    '''\n",
    "    d: droplet diameter (m)\n",
    "    rho: droplet density (kg/m**3)\n",
    "    '''\n",
    "    \n",
    "    # Physical constants\n",
    "    nu    = CONST.nu    # Kinematic viscosity of seawater (m**2/s)\n",
    "    rho_w = CONST.rho_w # Density of seawater (kg/m**3)\n",
    "    g     = CONST.g     # Acceleration of gravity (m/s**2)\n",
    "    # reduced gravity\n",
    "    g_    = g*(rho - rho_w) / rho_w\n",
    "    # calculate and return velocity (positive upwards)\n",
    "    return d**2 * g_ / (18*nu)\n",
    "\n",
    "\n",
    "def rise_speed_johansen(d, rho):\n",
    "    '''\n",
    "    Calculate the rise speed (m/s) of a droplet due to buoyancy.\n",
    "    This scheme uses Stokes' law at small Reynolds numbers, with\n",
    "    a harmonic transition to a constant drag coefficient at high\n",
    "    Reynolds numbers.\n",
    "    \n",
    "    See Johansen (2000), Eq. (14) for details.\n",
    "    \n",
    "    d: droplet diameter (m)\n",
    "    rho: droplet density (kg/m**3)\n",
    "    '''\n",
    "    # Physical constants\n",
    "    pref  = 1.054       # Numerical prefactor\n",
    "    nu    = CONST.nu    # Kinematic viscosity of seawater (m**2/s)\n",
    "    rho_w = CONST.rho_w # Density of seawater (kg/m**3)\n",
    "    g = CONST.g         # Acceleration of gravity (m/s**2)\n",
    "    \n",
    "    g_    = g*(rho_w - rho) / rho_w\n",
    "    w1    = d**2 * g_ / (18*nu)\n",
    "    w2    = np.sqrt(d*abs(g_)) * pref * np.sign(g_)\n",
    "    return w1*w2/(w1+w2)"
   ]
  },
  {
   "cell_type": "code",
   "execution_count": 32,
   "metadata": {},
   "outputs": [
    {
     "name": "stdout",
     "output_type": "stream",
     "text": [
      "Converged in 7 iterations\n",
      "1.8626991944963544e-05\n",
      "Converged in 5 iterations\n",
      "-0.0015540279349011306\n",
      "Converged in 0 iterations\n",
      "-1.566148209346602e-05\n"
     ]
    },
    {
     "data": {
      "image/png": "[encoded data removed]",
      "text/plain": [
       "<Figure size 432x288 with 1 Axes>"
      ]
     },
     "metadata": {
      "needs_background": "light"
     },
     "output_type": "display_data"
    }
   ],
   "source": [
    "# Compare expression for pellets (using CSF=1) to Stokes' law\n",
    "d = np.linspace(20e-6, 5e-3, 100)\n",
    "\n",
    "# Positively buoyant\n",
    "rho = CONST.rho_w - 0.1 # kg/L\n",
    "# Get the drag coefficient\n",
    "CD = CD_iterator(CD_pellet_rising, d, rho, CSF=1, verbose=True)\n",
    "l = plt.plot(d, -rise_speed_CD(d, rho, CD), label = f'$\\Delta \\\\rho = -0.1$ kg/L, pellet, CSF = 1')\n",
    "print(-rise_speed_CD(d, rho, CD)[0])\n",
    "\n",
    "# Negatively buoyant\n",
    "rho = CONST.rho_w + 0.1 # kg/L\n",
    "# Get the drag coefficient\n",
    "CD = CD_iterator(CD_pellet_sinking, d, rho, CSF=1, verbose=True)\n",
    "l = plt.plot(d, rise_speed_CD(d, rho, CD), label = f'$\\Delta \\\\rho = +0.1$ kg/L, pellet, CSF = 1')\n",
    "print(-rise_speed_CD(d, rho, CD)[0])\n",
    "\n",
    "# Stokes' law on drag coefficient form\n",
    "# Get the drag coefficient\n",
    "CD = CD_iterator(CD_stokes, d, rho, CSF=1, verbose=True)\n",
    "l = plt.plot(d, rise_speed_CD(d, rho, CD), label = f'Stokes law on CD form')\n",
    "print(-rise_speed_CD(d, rho, CD)[0])\n",
    "\n",
    "\n",
    "plt.plot(d, rise_speed_stokes(d, rho), '--', c = 'k', lw = 1, label = f\"Stokes' law\")\n",
    "plt.plot(d, -rise_speed_johansen(d, rho), ':', c = 'k', lw = 1, label = f\"Johansen's law\")\n",
    "\n",
    "plt.legend(loc = 'upper left')\n",
    "plt.xlabel('Particle size [m]')\n",
    "plt.ylabel('Terminal speed [m/s]')\n",
    "\n",
    "plt.xscale('log')\n",
    "plt.yscale('log')\n",
    "plt.tight_layout()\n",
    "#plt.savefig('speed_comparison.png', dpi = 120)"
   ]
  },
  {
   "cell_type": "markdown",
   "metadata": {},
   "source": [
    "# Speed distribution"
   ]
  },
  {
   "cell_type": "code",
   "execution_count": 35,
   "metadata": {},
   "outputs": [
    {
     "name": "stdout",
     "output_type": "stream",
     "text": [
      "Calculated 100000000 speeds in 66.913 seconds\n"
     ]
    },
    {
     "data": {
      "image/png": "[encoded data removed]",
      "text/plain": [
       "<Figure size 432x288 with 1 Axes>"
      ]
     },
     "metadata": {
      "needs_background": "light"
     },
     "output_type": "display_data"
    }
   ],
   "source": [
    "# Number of samples\n",
    "Np = 100000000\n",
    "\n",
    "tic = time()\n",
    "\n",
    "# Density\n",
    "rho = rvs_density(Np)\n",
    "# Size (longest dimension)\n",
    "l = rvs_size(Np) / 1e6\n",
    "# Shape, and associated parameters\n",
    "# Note that h_ = h/l and w_ = w/l are normalised height and width\n",
    "# and we assume h <= w <= l\n",
    "CSF, w_, h_, cat = rvs_shape(Np)\n",
    "# Calculate real height and width\n",
    "h = l*h_\n",
    "w = l*w_\n",
    "# calculate equivalent spherical diameter\n",
    "# (assuming ellipsoid shape)\n",
    "d = (l*w*h)**(1.0/3)\n",
    "\n",
    "# Array to hold speeds\n",
    "v = np.zeros(Np)\n",
    "\n",
    "\n",
    "# Calculate speeds separately for fibres and other particles\n",
    "# Note that we use only the \"rising\" expressions from Waldschläger & Schüttrumpf\n",
    "\n",
    "# Calculate speed for fibres\n",
    "v[cat==0] = CD_iterator(CD_fibre_rising, d[cat==0], rho[cat==0], CSF=CSF[cat==0], return_speed=True)\n",
    "# Calculate speed for fibres\n",
    "v[cat!=0] = CD_iterator(CD_pellet_rising, d[cat!=0], rho[cat!=0], CSF=CSF[cat!=0], return_speed=True)\n",
    "\n",
    "toc = time()\n",
    "print(f'Calculated {Np} speeds in {toc-tic:.3f} seconds')\n",
    "\n",
    "# Plot histogram of speeds\n",
    "_ = plt.hist(v, bins=250)\n",
    "plt.yscale('log')"
   ]
  },
  {
   "cell_type": "code",
   "execution_count": 37,
   "metadata": {},
   "outputs": [
    {
     "name": "stdout",
     "output_type": "stream",
     "text": [
      "642  particles fell between the chairs\n"
     ]
    },
    {
     "data": {
      "image/png": "[encoded data removed]",
      "text/plain": [
       "<Figure size 648x360 with 2 Axes>"
      ]
     },
     "metadata": {
      "needs_background": "light"
     },
     "output_type": "display_data"
    }
   ],
   "source": [
    "# Positive and negative velocities separately on log scale\n",
    "fig, ax = plt.subplots(ncols=2, figsize=(9,5), sharey=True)\n",
    "\n",
    "# Negative\n",
    "bins = -np.logspace(-9, -1, 100)[::-1]\n",
    "mids = -np.sqrt(bins[1:]*bins[:-1])\n",
    "wids = bins[1:] - bins[:-1]\n",
    "h, _ = np.histogram(v[v<0], bins=bins)\n",
    "\n",
    "ax[0].bar(mids, h, width=wids)\n",
    "ax[0].set_xscale('symlog', linthresh=1e-10)\n",
    "ax[0].set_xlim(-1e-0, -1e-9)\n",
    "ax[0].set_xticks([-1e-2, -1e-4, -1e-6, -1e-8])\n",
    "ax[0].set_yscale('log')\n",
    "\n",
    "# Positive\n",
    "bins = np.logspace(-9, 0, 100)\n",
    "mids = np.sqrt(bins[1:]*bins[:-1])\n",
    "wids = bins[1:] - bins[:-1]\n",
    "h, _ = np.histogram(v[v>0], bins=bins)\n",
    "\n",
    "ax[1].bar(mids, h, width=wids)\n",
    "ax[1].set_xlim(1e-9, 1e-0)\n",
    "ax[1].set_xscale('log')\n",
    "ax[1].set_xticks([1e-8, 1e-6, 1e-4, 1e-2])\n",
    "ax[1].set_yscale('log')\n",
    "\n",
    "plt.tight_layout()\n",
    "\n",
    "print(np.sum((v > -1e-9) & (v < 1e-9)), ' particles fell between the chairs')"
   ]
  },
  {
   "cell_type": "code",
   "execution_count": 46,
   "metadata": {},
   "outputs": [
    {
     "name": "stdout",
     "output_type": "stream",
     "text": [
      "642  particles fell between the chairs\n"
     ]
    },
    {
     "data": {
      "image/png": "[encoded data removed]",
      "text/plain": [
       "<Figure size 504x216 with 2 Axes>"
      ]
     },
     "metadata": {
      "needs_background": "light"
     },
     "output_type": "display_data"
    }
   ],
   "source": [
    "# Positive and negative velocities separately on log scale\n",
    "fig, ax = plt.subplots(ncols=2, figsize=(7,3), sharey=True)\n",
    "\n",
    "# Negative\n",
    "bins = -np.logspace(-9, -1, 100)[::-1]\n",
    "mids = -np.sqrt(bins[1:]*bins[:-1])\n",
    "wids = bins[1:] - bins[:-1]\n",
    "h, _ = np.histogram(v[v<0], bins=bins)\n",
    "\n",
    "ax[0].bar(mids, h, width=wids)\n",
    "ax[0].set_xscale('symlog', linthresh=1e-10)\n",
    "ax[0].set_xlim(-1e-0, -1e-9)\n",
    "ax[0].set_xticks([-1e-2, -1e-4, -1e-6, -1e-8])\n",
    "ax[0].set_yscale('log')\n",
    "\n",
    "# Positive\n",
    "bins = np.logspace(-9, 0, 100)\n",
    "mids = np.sqrt(bins[1:]*bins[:-1])\n",
    "wids = bins[1:] - bins[:-1]\n",
    "h, _ = np.histogram(v[v>0], bins=bins)\n",
    "\n",
    "ax[1].bar(mids, h, width=wids)\n",
    "ax[1].set_xlim(1e-9, 1e-0)\n",
    "ax[1].set_xscale('log')\n",
    "ax[1].set_xticks([1e-8, 1e-6, 1e-4, 1e-2])\n",
    "ax[1].set_yscale('log')\n",
    "\n",
    "ax[0].set_ylabel('Particle count')\n",
    "ax[0].set_xlabel('Rise velocity [m/s]')\n",
    "ax[1].set_xlabel('Settling velocity [m/s]')\n",
    "\n",
    "plt.tight_layout()\n",
    "plt.savefig('Case2_number_velocity_distribution.pdf')\n",
    "\n",
    "print(np.sum((v > -1e-9) & (v < 1e-9)), ' particles fell between the chairs')"
   ]
  },
  {
   "cell_type": "code",
   "execution_count": 49,
   "metadata": {},
   "outputs": [
    {
     "name": "stdout",
     "output_type": "stream",
     "text": [
      "642  particles fell between the chairs\n"
     ]
    },
    {
     "data": {
      "image/png": "[encoded data removed]",
      "text/plain": [
       "<Figure size 504x216 with 2 Axes>"
      ]
     },
     "metadata": {
      "needs_background": "light"
     },
     "output_type": "display_data"
    }
   ],
   "source": [
    "# Positive and negative velocities separately on log scale\n",
    "fig, ax = plt.subplots(ncols=2, figsize=(7,3))\n",
    "\n",
    "# Negative\n",
    "bins = -np.logspace(-9, -1, 100)[::-1]\n",
    "mids = -np.sqrt(bins[1:]*bins[:-1])\n",
    "wids = bins[1:] - bins[:-1]\n",
    "h, _ = np.histogram(v[v<0], bins=bins)\n",
    "\n",
    "ax[0].bar(mids, h, width=wids)\n",
    "ax[0].set_xscale('symlog', linthresh=1e-10)\n",
    "ax[0].set_xlim(-1e-0, -1e-9)\n",
    "ax[0].set_xticks([-1e-2, -1e-4, -1e-6, -1e-8])\n",
    "#ax[0].set_yscale('log')\n",
    "\n",
    "# Positive\n",
    "bins = np.logspace(-9, 0, 100)\n",
    "mids = np.sqrt(bins[1:]*bins[:-1])\n",
    "wids = bins[1:] - bins[:-1]\n",
    "h, _ = np.histogram(v[v>0], bins=bins)\n",
    "\n",
    "ax[1].bar(mids, h, width=wids)\n",
    "ax[1].set_xlim(1e-9, 1e-0)\n",
    "ax[1].set_xscale('log')\n",
    "ax[1].set_xticks([1e-8, 1e-6, 1e-4, 1e-2])\n",
    "#ax[1].set_yscale('log')\n",
    "\n",
    "ax[0].set_ylabel('Particle count')\n",
    "ax[0].set_xlabel('Rise velocity [m/s]')\n",
    "ax[1].set_xlabel('Settling velocity [m/s]')\n",
    "\n",
    "plt.tight_layout()\n",
    "plt.savefig('Case2_number_velocity_distribution.pdf')\n",
    "\n",
    "print(np.sum((v > -1e-9) & (v < 1e-9)), ' particles fell between the chairs')"
   ]
  },
  {
   "cell_type": "code",
   "execution_count": 48,
   "metadata": {},
   "outputs": [
    {
     "name": "stdout",
     "output_type": "stream",
     "text": [
      "97690253 2309747\n"
     ]
    }
   ],
   "source": [
    "print(np.sum(v>0), np.sum(v<0))"
   ]
  },
  {
   "cell_type": "code",
   "execution_count": 50,
   "metadata": {},
   "outputs": [
    {
     "name": "stdout",
     "output_type": "stream",
     "text": [
      "2.309747\n"
     ]
    }
   ],
   "source": [
    "print(100*np.sum(v<0)/1e8)"
   ]
  },
  {
   "cell_type": "code",
   "execution_count": null,
   "metadata": {},
   "outputs": [],
   "source": []
  }
 ],
 "metadata": {
  "kernelspec": {
   "display_name": "Python 3 (ipykernel)",
   "language": "python",
   "name": "python3"
  },
  "language_info": {
   "codemirror_mode": {
    "name": "ipython",
    "version": 3
   },
   "file_extension": ".py",
   "mimetype": "text/x-python",
   "name": "python",
   "nbconvert_exporter": "python",
   "pygments_lexer": "ipython3",
   "version": "3.9.7"
  }
 },
 "nbformat": 4,
 "nbformat_minor": 2
}
